{
 "cells": [
  {
   "cell_type": "markdown",
   "metadata": {},
   "source": [
    "# Configure Sugar\n"
   ]
  },
  {
   "cell_type": "code",
   "execution_count": null,
   "metadata": {},
   "outputs": [],
   "source": [
    "#| default_exp config"
   ]
  },
  {
   "cell_type": "code",
   "execution_count": null,
   "metadata": {},
   "outputs": [],
   "source": [
    "#| hide\n",
    "from nbdev.showdoc import *"
   ]
  },
  {
   "cell_type": "code",
   "execution_count": null,
   "metadata": {},
   "outputs": [],
   "source": [
    "#| export\n",
    "\n",
    "import os\n",
    "from dataclasses import dataclass, make_dataclass, fields\n",
    "from sugar.helpers import normalize_address\n",
    "from typing import List, Callable, Any, Dict"
   ]
  },
  {
   "cell_type": "code",
   "execution_count": null,
   "metadata": {},
   "outputs": [],
   "source": [
    "#| export\n",
    "\n",
    "base_default_settings = {\n",
    "  \"price_batch_size\": int(os.getenv(\"SUGAR_PRICE_BATCH_SIZE\",\"40\")),\n",
    "  \"price_threshold_filter\": int(os.getenv(\"SUGAR_PRICE_THRESHOLD_FILTER\",\"10\")),\n",
    "  \"pagination_limit\": int(os.getenv(\"SUGAR_PAGINATION_LIMIT\",\"2000\")),\n",
    "  \"pool_page_size\": int(os.getenv(\"SUGAR_POOL_PAGE_SIZE\",\"500\")),\n",
    "  # XX: dealing with Schrödinger's paginator this is likely to be ignored in the future with new sugar helpers\n",
    "  \"pools_count_upper_bound\": 2500,\n",
    "  \"native_token_symbol\": \"ETH\",\n",
    "  \"native_token_decimals\": 18,\n",
    "  \"swap_slippage\": 0.01,\n",
    "  \"pricing_cache_timeout_seconds\": 5,\n",
    "  \"threading_max_workers\": 5\n",
    "}\n",
    "\n",
    "\n",
    "@dataclass\n",
    "class ChainSettings:\n",
    "    # chain IDs come from: https://chainlist.org/\n",
    "    chain_id: str\n",
    "    chain_name: str\n",
    "    wrapped_native_token_addr: str\n",
    "    rpc_uri: str\n",
    "    sugar_contract_addr: str\n",
    "    sugar_rewards_contract_addr: str\n",
    "    # slipstream operates on concentrated liquidity (CL) pools\n",
    "    slipstream_contract_addr: str\n",
    "    # Non-Fungible Position Manager for CL pools\n",
    "    nfpm_contract_addr: str\n",
    "    price_oracle_contract_addr: str\n",
    "    router_contract_addr: str\n",
    "    quoter_contract_addr: str\n",
    "    # aka Universal Router\n",
    "    swapper_contract_addr: str\n",
    "    token_addr: str\n",
    "    stable_token_addr: str\n",
    "    connector_tokens_addrs: List[str]\n",
    "    # tokens to exclude from quote search graph\n",
    "    excluded_tokens_addrs: List[str]\n",
    "    # default swap slippage in % (0.0-1.0)\n",
    "    swap_slippage: float\n",
    "    price_batch_size: int\n",
    "    price_threshold_filter: int\n",
    "    pagination_limit: int\n",
    "    pools_count_upper_bound: int\n",
    "    pool_page_size: int\n",
    "    native_token_symbol: str\n",
    "    native_token_decimals: int\n",
    "    # how often to check for new prices\n",
    "    pricing_cache_timeout_seconds: int\n",
    "    # how many max workers to use for threading in sync methods\n",
    "    threading_max_workers: int\n",
    "\n",
    "    def __str__(self):\n",
    "        # go over all attributes of self\n",
    "        lines = [\"🍭 Chain settings:\",\"----------------\"]\n",
    "        attributes = [attr for attr in dir(self) if not attr.startswith('_')]\n",
    "        for attr in attributes:\n",
    "            # Skip methods\n",
    "            if callable(getattr(self, attr)): continue\n",
    "            value = getattr(self, attr)\n",
    "            if isinstance(value, list):\n",
    "                value = \"\\n\" + \"\\n\".join([f\"{' ' * 4 }- {v}\" for v in value])\n",
    "            lines.append(f\"{attr}: {value}\")\n",
    "        return \"\\n\".join(lines)\n",
    "    \n",
    "    def __repr__(self): return str(self)\n",
    "\n",
    "def validate_settings(settings: ChainSettings) -> ChainSettings:\n",
    "    # TODO: this should actually validate stuff, duh\n",
    "    floats = [\"swap_slippage\"]\n",
    "    ints = [\"price_batch_size\", \"price_threshold_filter\", \"pagination_limit\", \"pool_page_size\", \"native_token_decimals\",\n",
    "            \"pricing_cache_timeout_seconds\", \"pools_count_upper_bound\", \"threading_max_workers\"]\n",
    "    for k in floats: setattr(settings, k, float(getattr(settings, k)))\n",
    "    for k in ints: setattr(settings, k, int(getattr(settings, k)))\n",
    "    return settings\n",
    "\n",
    "def get_env(key: str, default: Any) -> Any: return os.getenv(key, default)\n",
    "\n",
    "GetEnv = Callable[[str, Any], Any]\n",
    "\n",
    "def make_settings(chain_id: str, chain_name: str, chain_settings: Dict[str, Any], get_env: GetEnv, **kwargs) -> ChainSettings:\n",
    "    d = { **base_default_settings, **chain_settings, **{ \"chain_id\": chain_id, \"chain_name\": chain_name } }\n",
    "\n",
    "    for k,v in d.items():\n",
    "        if k in [\"chain_id\", \"chain_name\"]: continue\n",
    "        # look for env vars (i.e stable_token_addr for chain_id=\"10\" should be SUGAR_STABLE_TOKEN_ADDR_10)\n",
    "        d[k] = get_env(f\"SUGAR_{k.upper()}_{chain_id}\", v)\n",
    "\n",
    "    # keywords override env vars\n",
    "    d = d | kwargs\n",
    "\n",
    "    for k,v in d.items():\n",
    "        # anything that ends in \"_addr\", should be normalized\n",
    "        if k.endswith(\"_addr\"): d[k] = normalize_address(d[k])\n",
    "        # anything that ends in \"_addrs\", should be a list of normalized addresses\n",
    "        if k.endswith(\"_addrs\"): d[k] = list(map(lambda a: normalize_address(a), d[k].split(\",\")))\n",
    "\n",
    "    # we only want fields that are in the ChainSettings dataclass\n",
    "    d =  {k: v for k, v in d.items() if k in [field.name for field in fields(ChainSettings)]}\n",
    "\n",
    "    return validate_settings(make_dataclass(ChainSettings.__name__, ((k, type(v)) for k, v in d.items()))(**d)) "
   ]
  },
  {
   "cell_type": "markdown",
   "metadata": {},
   "source": [
    "## OP Chain settings"
   ]
  },
  {
   "cell_type": "code",
   "execution_count": null,
   "metadata": {},
   "outputs": [],
   "source": [
    "#| export\n",
    "\n",
    "def make_op_chain_settings(get_env: GetEnv = get_env, **kwargs) -> ChainSettings:\n",
    "    d = {\n",
    "        \"rpc_uri\": \"https://optimism-mainnet.wallet.coinbase.com\",\n",
    "        \"wrapped_native_token_addr\": \"0x4200000000000000000000000000000000000006\",\n",
    "        \"sugar_contract_addr\": \"0x766133beae539ed33a7e27dfa3a840deaad88947\",\n",
    "        \"sugar_rewards_contract_addr\": \"0x62CCFB2496f49A80B0184AD720379B529E9152fB\",\n",
    "        \"slipstream_contract_addr\": \"0xD45624bf2CB9f65ecbdF3067d21992b099b56202\",\n",
    "        \"nfpm_contract_addr\": \"0x416b433906b1B72FA758e166e239c43d68dC6F29\",\n",
    "        \"price_oracle_contract_addr\": \"0x59114D308C6DE4A84F5F8cD80485a5481047b99f\",\n",
    "        \"router_contract_addr\": \"0xa062aE8A9c5e11aaA026fc2670B0D65cCc8B2858\",\n",
    "        \"quoter_contract_addr\": \"0xFF79ec912bA114FD7989b9A2b90C65f0c1b44722\",\n",
    "        \"swapper_contract_addr\": \"0x4bF3E32de155359D1D75e8B474b66848221142fc\",\n",
    "        \"token_addr\": \"0x9560e827aF36c94D2Ac33a39bCE1Fe78631088Db\",\n",
    "        \"stable_token_addr\": \"0x7f5c764cbc14f9669b88837ca1490cca17c31607\",\n",
    "        \"connector_tokens_addrs\": \"0x9560e827aF36c94D2Ac33a39bCE1Fe78631088Db,0x4200000000000000000000000000000000000042,0x4200000000000000000000000000000000000006,0x9bcef72be871e61ed4fbbc7630889bee758eb81d,0x2e3d870790dc77a83dd1d18184acc7439a53f475,0x8c6f28f2f1a3c87f0f938b96d27520d9751ec8d9,0x1f32b1c2345538c0c6f582fcb022739c4a194ebb,0xbfd291da8a403daaf7e5e9dc1ec0aceacd4848b9,0xc3864f98f2a61a7caeb95b039d031b4e2f55e0e9,0x9485aca5bbbe1667ad97c7fe7c4531a624c8b1ed,0xDA10009cBd5D07dd0CeCc66161FC93D7c9000da1,0x73cb180bf0521828d8849bc8cf2b920918e23032,0x6806411765af15bddd26f8f544a34cc40cb9838b,0x6c2f7b6110a37b3b0fbdd811876be368df02e8b0,0xc5b001dc33727f8f26880b184090d3e252470d45,0x6c84a8f1c29108f47a79964b5fe888d4f4d0de40,0xc40f949f8a4e094d1b49a23ea9241d289b7b2819,0x94b008aa00579c1307b0ef2c499ad98a8ce58e58,0x0b2c639c533813f4aa9d7837caf62653d097ff85\",\n",
    "        \"excluded_tokens_addrs\": \"0x74ccbe53f77b08632ce0cb91d3a545bf6b8e0979,0x139283255069ea5deef6170699aaef7139526f1f,0x88a89866439f4c2830986b79cbe6f69d1bd548bb,0x8901cb2e82cc95c01e42206f8d1f417fe53e7af0\"\n",
    "    } \n",
    "    return make_settings(\"10\", \"OP\", chain_settings=d, get_env=get_env, **kwargs)"
   ]
  },
  {
   "cell_type": "markdown",
   "metadata": {},
   "source": [
    "## BASE Chain settings"
   ]
  },
  {
   "cell_type": "code",
   "execution_count": null,
   "metadata": {},
   "outputs": [],
   "source": [
    "#| export\n",
    "\n",
    "def make_base_chain_settings(get_env: GetEnv = get_env, **kwargs) -> ChainSettings:\n",
    "    d = {\n",
    "        \"rpc_uri\": \"https://mainnet.base.org\",\n",
    "        \"pools_count_upper_bound\": 9000,\n",
    "        \"wrapped_native_token_addr\": \"0x4200000000000000000000000000000000000006\",\n",
    "        \"sugar_contract_addr\": \"0x01cba9e44ad356bad5e2d616357b69cb406248ac\",\n",
    "        \"sugar_rewards_contract_addr\": \"0xA44600F4DBA6683d8BD99270B1A6a143fB9F1C3B\",\n",
    "        \"slipstream_contract_addr\": \"0x0AD09A66af0154a84e86F761313d02d0abB6edd5\",\n",
    "        \"nfpm_contract_addr\": \"0x827922686190790b37229fd06084350E74485b72\",\n",
    "        \"price_oracle_contract_addr\": \"0x3B06c787711ecb5624cE65AC8F26cde10831eb0C\",\n",
    "        \"router_contract_addr\": \"0xcF77a3Ba9A5CA399B7c97c74d54e5b1Beb874E43\",\n",
    "        \"quoter_contract_addr\": \"0x0A5aA5D3a4d28014f967Bf0f29EAA3FF9807D5c6\",\n",
    "        \"swapper_contract_addr\": \"0x6Cb442acF35158D5eDa88fe602221b67B400Be3E\",\n",
    "        \"token_addr\": \"0x9560e827aF36c94D2Ac33a39bCE1Fe78631088Db\",\n",
    "        \"stable_token_addr\": \"0x833589fCD6eDb6E08f4c7C32D4f71b54bdA02913\",\n",
    "        \"connector_tokens_addrs\": \"0x833589fcd6edb6e08f4c7c32d4f71b54bda02913,0x940181a94A35A4569E4529A3CDfB74e38FD98631,0x50c5725949A6F0c72E6C4a641F24049A917DB0Cb,0x4621b7a9c75199271f773ebd9a499dbd165c3191,0x4200000000000000000000000000000000000006,0xb79dd08ea68a908a97220c76d19a6aa9cbde4376,0xf7a0dd3317535ec4f4d29adf9d620b3d8d5d5069,0xcfa3ef56d303ae4faaba0592388f19d7c3399fb4,0xcb327b99ff831bf8223cced12b1338ff3aa322ff,0x2ae3f1ec7f1f5012cfeab0185bfc7aa3cf0dec22,0xc1cba3fcea344f92d9239c08c0568f6f2f0ee452,0x60a3e35cc302bfa44cb288bc5a4f316fdb1adb42,0xd9aaec86b65d86f6a7b5b1b0c42ffa531710b6ca,0xcbB7C0000aB88B473b1f5aFd9ef808440eed33Bf\",\n",
    "        \"excluded_tokens_addrs\": \"0x74ccbe53f77b08632ce0cb91d3a545bf6b8e0979,0x8901cb2e82cc95c01e42206f8d1f417fe53e7af0,0x9cbd543f1b1166b2df36b68eb6bb1dce24e6abdf,0x025f99977db78317a4eba606998258b502bb256f,0xd260115030b9fb6849da169a01ed80b6496d1e99,0x608d5401d377228e465ba6113517dcf9bd1f95ca,0xd260115030b9fB6849da169a01ed80b6496d1e99,0x728cDA34D732a87fD6429129e23D4742d9Ff0064,0x728cda34d732a87fd6429129e23d4742d9ff0064,0xAC1Bd2486aAf3B5C0fc3Fd868558b082a531B2B4,0x0f929C29dcE303F96b1d4104505F2e60eE795caC,0x47E78d664E6c339693e8638B7A7D9543AbCc99D4,0xFF0C532FDB8Cd566Ae169C1CB157ff2Bdc83E105,0x373504da48418c67e6fcd071f33cb0b3b47613c7,0x0f929c29dce303f96b1d4104505f2e60ee795cac,0x628c5Ba9B775DACEcd14E237130c537f497d1CC7\"\n",
    "    }\n",
    "    return make_settings(\"8453\", \"Base\", chain_settings=d, get_env=get_env, **kwargs)"
   ]
  },
  {
   "cell_type": "markdown",
   "metadata": {},
   "source": [
    "## UNICHAIN Chain settings"
   ]
  },
  {
   "cell_type": "code",
   "execution_count": null,
   "metadata": {},
   "outputs": [],
   "source": [
    "#| export\n",
    "\n",
    "def make_uni_chain_settings(get_env: GetEnv = get_env, **kwargs) -> ChainSettings:\n",
    "    d = {\n",
    "        \"rpc_uri\": \"https://unichain.drpc.org\",\n",
    "        \"pools_count_upper_bound\": 20,\n",
    "        \"wrapped_native_token_addr\": \"0x4200000000000000000000000000000000000006\",\n",
    "        \"interchain_account_addr\": \"0x1174A4719FaF964AfE2179A404b4830EC0DCB8D5\",\n",
    "        \"sugar_contract_addr\": \"0xcaa7d54453964773fe04b5ad32d06322fc9d9fe4\",\n",
    "        \"sugar_rewards_contract_addr\": \"0xbDD1d5A9d9566F575bC59cE33C8F77ACa5cF924b\",\n",
    "        \"slipstream_contract_addr\": \"0x222ed297aF0560030136AE652d39fa40E1B72818\",\n",
    "        \"nfpm_contract_addr\": \"0x991d5546C4B442B4c5fdc4c8B8b8d131DEB24702\",\n",
    "        \"price_oracle_contract_addr\": \"0xe58920a8c684CD3d6dCaC2a41b12998e4CB17EfE\",\n",
    "        \"router_contract_addr\": \"0x3a63171DD9BebF4D07BC782FECC7eb0b890C2A45\",\n",
    "        \"quoter_contract_addr\": \"0x2f7150B288ef1cc553207bD9fbd40D4e0e093B24\",\n",
    "        \"swapper_contract_addr\": \"0x6Df1c91424F79E40E33B1A48F0687B666bE71075\",\n",
    "        \"token_addr\": \"0x7f9AdFbd38b669F03d1d11000Bc76b9AaEA28A81\",\n",
    "        \"stable_token_addr\": \"0x078d782b760474a361dda0af3839290b0ef57ad6\",\n",
    "        \"connector_tokens_addrs\": \"0x4200000000000000000000000000000000000006,0x078d782b760474a361dda0af3839290b0ef57ad6\",\n",
    "        \"excluded_tokens_addrs\": \"0xE3Ae7873B76722Ba23b1EEEEE544a75eDe891a66\"\n",
    "    }\n",
    "    return make_settings(\"130\", \"Uni\", chain_settings=d, get_env=get_env, **kwargs)"
   ]
  },
  {
   "cell_type": "markdown",
   "metadata": {},
   "source": [
    "## Soneium Chain settings"
   ]
  },
  {
   "cell_type": "code",
   "execution_count": null,
   "metadata": {},
   "outputs": [],
   "source": [
    "#| export\n",
    "\n",
    "def make_soneium_chain_settings(get_env: GetEnv = get_env, **kwargs) -> ChainSettings:\n",
    "    d = {\n",
    "        \"rpc_uri\": \"https://rpc.soneium.org\",#\n",
    "        \"pools_count_upper_bound\": 20,#\n",
    "        \"wrapped_native_token_addr\": \"0x4200000000000000000000000000000000000006\",\n",
    "        #\"interchain_account_addr\": \"0x1174A4719FaF964AfE2179A404b4830EC0DCB8D5\",\n",
    "        \"sugar_contract_addr\": \"0x107F6d607f780B7B4E5148FE973777a6c72448Ee\",\n",
    "        \"sugar_rewards_contract_addr\": \"0xbDD1d5A9d9566F575bC59cE33C8F77ACa5cF924b\",\n",
    "        \"slipstream_contract_addr\": \"0x222ed297aF0560030136AE652d39fa40E1B72818\",\n",
    "        \"nfpm_contract_addr\": \"0x991d5546C4B442B4c5fdc4c8B8b8d131DEB24702\",\n",
    "        \"price_oracle_contract_addr\": \"0xe58920a8c684CD3d6dCaC2a41b12998e4CB17EfE\",\n",
    "        \"router_contract_addr\": \"0x3a63171DD9BebF4D07BC782FECC7eb0b890C2A45\",\n",
    "        \"quoter_contract_addr\": \"0x2f7150B288ef1cc553207bD9fbd40D4e0e093B24\",\n",
    "        \"swapper_contract_addr\": \"0x652e53C6a4FE39B6B30426d9c96376a105C89A95\",\n",
    "        \"token_addr\": \"0x7f9AdFbd38b669F03d1d11000Bc76b9AaEA28A81\",\n",
    "        \"stable_token_addr\": \"0xbA9986D2381edf1DA03B0B9c1f8b00dc4AacC369\",\n",
    "        \"connector_tokens_addrs\": \"0x4200000000000000000000000000000000000006,0x7f9AdFbd38b669F03d1d11000Bc76b9AaEA28A81\",\n",
    "        \"excluded_tokens_addrs\": \"0xE3Ae7873B76722Ba23b1EEEEE544a75eDe891a66\"#random one\n",
    "    }\n",
    "    return make_settings(\"1868\", \"Soneium\", chain_settings=d, get_env=get_env, **kwargs)"
   ]
  },
  {
   "cell_type": "markdown",
   "metadata": {},
   "source": [
    "## Fraxtal Chain settings"
   ]
  },
  {
   "cell_type": "code",
   "execution_count": null,
   "metadata": {},
   "outputs": [],
   "source": [
    "#| export\n",
    "\n",
    "def make_fraxtal_chain_settings(get_env: GetEnv = get_env, **kwargs) -> ChainSettings:\n",
    "    d = {\n",
    "        \"rpc_uri\": \"https://rpc.frax.com\",\n",
    "        \"pools_count_upper_bound\": 20,\n",
    "        \"wrapped_native_token_addr\": \"0xFC00000000000000000000000000000000000006\",#\n",
    "        \"sugar_contract_addr\": \"0x4ea3301ab7fbedb21e70a01e242212b5ad0af6fe\",#\n",
    "        \"sugar_rewards_contract_addr\": \"0xbDD1d5A9d9566F575bC59cE33C8F77ACa5cF924b\",#\n",
    "        \"slipstream_contract_addr\": \"0x593D092BB28CCEfe33bFdD3d9457e77Bd3084271\",#\n",
    "        \"nfpm_contract_addr\": \"0x991d5546c4b442b4c5fdc4c8b8b8d131deb24702\",#\n",
    "        \"price_oracle_contract_addr\": \"0x4817f8D70aE32Ee96e5E6BFA24eb7Fcfa83bbf29\",#\n",
    "        \"router_contract_addr\": \"0x3a63171dd9bebf4d07bc782fecc7eb0b890c2a45\",#\n",
    "        \"quoter_contract_addr\": \"0x2f7150B288ef1cc553207bD9fbd40D4e0e093B24\",#\n",
    "        \"swapper_contract_addr\": \"0x652e53C6a4FE39B6B30426d9c96376a105C89A95\",# universal router\n",
    "        \"token_addr\": \"0x7f9AdFbd38b669F03d1d11000Bc76b9AaEA28A81\",#\n",
    "        \"stable_token_addr\": \"0xFc00000000000000000000000000000000000001\",#\n",
    "        \"connector_tokens_addrs\": \"0xFC00000000000000000000000000000000000006,0x7f9AdFbd38b669F03d1d11000Bc76b9AaEA28A81\",#\n",
    "        \"excluded_tokens_addrs\": \"0xE3Ae7873B76722Ba23b1EEEEE544a75eDe891a66\"#random one\n",
    "    }\n",
    "    return make_settings(\"252\", \"Fraxtal\", chain_settings=d, get_env=get_env, **kwargs)"
   ]
  },
  {
   "cell_type": "markdown",
   "metadata": {},
   "source": [
    "## Ink Chain settings"
   ]
  },
  {
   "cell_type": "code",
   "execution_count": null,
   "metadata": {},
   "outputs": [],
   "source": [
    "#| export\n",
    "\n",
    "def make_ink_chain_settings(get_env: GetEnv = get_env, **kwargs) -> ChainSettings:\n",
    "    d = {\n",
    "        \"rpc_uri\": \"https://rpc-gel.inkonchain.com\",\n",
    "        \"pools_count_upper_bound\": 20,\n",
    "        \"wrapped_native_token_addr\": \"0x4200000000000000000000000000000000000006\",#\n",
    "        \"sugar_contract_addr\": \"0x154c0F8331B0B4af1384A2dFa67AADCa5Fd92C20\",#\n",
    "        \"sugar_rewards_contract_addr\": \"0xc100DC20aff9907E833a6aDEDDB52fC310554fF2\",#\n",
    "        \"slipstream_contract_addr\": \"0x222ed297aF0560030136AE652d39fa40E1B72818\",#\n",
    "        \"nfpm_contract_addr\": \"0x991d5546c4b442b4c5fdc4c8b8b8d131deb24702\",#\n",
    "        \"price_oracle_contract_addr\": \"0xe58920a8c684CD3d6dCaC2a41b12998e4CB17EfE\",#\n",
    "        \"router_contract_addr\": \"0x3a63171dd9bebf4d07bc782fecc7eb0b890c2a45\",#\n",
    "        \"quoter_contract_addr\": \"0x2f7150B288ef1cc553207bD9fbd40D4e0e093B24\",#\n",
    "        \"swapper_contract_addr\": \"0x652e53C6a4FE39B6B30426d9c96376a105C89A95\",#\n",
    "        \"token_addr\": \"0x7f9AdFbd38b669F03d1d11000Bc76b9AaEA28A81\",#\n",
    "        \"stable_token_addr\": \"0x0200C29006150606B650577BBE7B6248F58470c1\",#\n",
    "        \"connector_tokens_addrs\": \"0x4200000000000000000000000000000000000006,0x7f9AdFbd38b669F03d1d11000Bc76b9AaEA28A81\",#\n",
    "        \"excluded_tokens_addrs\": \"0xE3Ae7873B76722Ba23b1EEEEE544a75eDe891a66\"#random one\n",
    "    }\n",
    "    return make_settings(\"57073\", \"Ink\", chain_settings=d, get_env=get_env, **kwargs)"
   ]
  },
  {
   "cell_type": "markdown",
   "metadata": {},
   "source": [
    "## Lisk Chain settings"
   ]
  },
  {
   "cell_type": "code",
   "execution_count": null,
   "metadata": {},
   "outputs": [],
   "source": [
    "#| export\n",
    "\n",
    "def make_lisk_chain_settings(get_env: GetEnv = get_env, **kwargs) -> ChainSettings:\n",
    "    d = {\n",
    "        \"rpc_uri\": \"https://rpc.api.lisk.com\",\n",
    "        \"pools_count_upper_bound\": 20,\n",
    "        \"wrapped_native_token_addr\": \"0x4200000000000000000000000000000000000006\",#\n",
    "        \"sugar_contract_addr\": \"0x1443c0757f77c04bd514427d2bE356A5834E4167\",#\n",
    "        \"sugar_rewards_contract_addr\": \"0x9fCd211cc23E24352C3A17d353C6b3ECbeb6fAc2\",#\n",
    "        \"slipstream_contract_addr\": \"0xB98fB4C9C99dE155cCbF5A14af0dBBAd96033D6f\",\n",
    "        \"nfpm_contract_addr\": \"0x991d5546c4b442b4c5fdc4c8b8b8d131deb24702\",#\n",
    "        \"price_oracle_contract_addr\": \"0x024503003fFE9AF285f47c1DaAaA497D9f1166D0\",#\n",
    "        \"router_contract_addr\": \"0x3a63171dd9bebf4d07bc782fecc7eb0b890c2a45\",#\n",
    "        \"quoter_contract_addr\": \"0x2f7150B288ef1cc553207bD9fbd40D4e0e093B24\",#\n",
    "        \"swapper_contract_addr\": \"0x7f14B3E106FE9395115771B12f6F346b7136469a\",#\n",
    "        \"token_addr\": \"0x7f9AdFbd38b669F03d1d11000Bc76b9AaEA28A81\",#\n",
    "        \"stable_token_addr\": \"0xF242275d3a6527d877f2c927a82D9b057609cc71\",#\n",
    "        \"connector_tokens_addrs\": \"0x4200000000000000000000000000000000000006,0x7f9AdFbd38b669F03d1d11000Bc76b9AaEA28A81\",#\n",
    "        \"excluded_tokens_addrs\": \"0xE3Ae7873B76722Ba23b1EEEEE544a75eDe891a66\"#random one\n",
    "    }\n",
    "    return make_settings(\"1135\", \"Lisk\", chain_settings=d, get_env=get_env, **kwargs)"
   ]
  },
  {
   "cell_type": "markdown",
   "metadata": {},
   "source": [
    "## Metal Chain settings"
   ]
  },
  {
   "cell_type": "code",
   "execution_count": null,
   "metadata": {},
   "outputs": [],
   "source": [
    "#| export\n",
    "\n",
    "def make_metal_chain_settings(get_env: GetEnv = get_env, **kwargs) -> ChainSettings:\n",
    "    d = {\n",
    "        \"rpc_uri\": \"https://rpc.metall2.com\",\n",
    "        \"pools_count_upper_bound\": 20,\n",
    "        \"wrapped_native_token_addr\": \"0x4200000000000000000000000000000000000006\",#\n",
    "        \"sugar_contract_addr\": \"0x471C34138D06001AEe399af9EBEbbdF680b966B3\",#\n",
    "        \"sugar_rewards_contract_addr\": \"0x154c0F8331B0B4af1384A2dFa67AADCa5Fd92C20\",#\n",
    "        \"slipstream_contract_addr\": \"0x222ed297aF0560030136AE652d39fa40E1B72818\",#\n",
    "        \"nfpm_contract_addr\": \"0x991d5546c4b442b4c5fdc4c8b8b8d131deb24702\",#\n",
    "        \"price_oracle_contract_addr\": \"0x3e71CCdf495d9628D3655A600Bcad3afF2ddea98\",#\n",
    "        \"router_contract_addr\": \"0x3a63171dd9bebf4d07bc782fecc7eb0b890c2a45\",#\n",
    "        \"quoter_contract_addr\": \"0x2f7150B288ef1cc553207bD9fbd40D4e0e093B24\",#\n",
    "        \"swapper_contract_addr\": \"0x652e53C6a4FE39B6B30426d9c96376a105C89A95\",#\n",
    "        \"token_addr\": \"0x7f9AdFbd38b669F03d1d11000Bc76b9AaEA28A81\",\n",
    "        \"stable_token_addr\": \"0x51E85d70944256710cb141847F1a04f568C1Db0e\",\n",
    "        \"connector_tokens_addrs\": \"0x4200000000000000000000000000000000000006,0x7f9AdFbd38b669F03d1d11000Bc76b9AaEA28A81\",\n",
    "        \"excluded_tokens_addrs\": \"0xE3Ae7873B76722Ba23b1EEEEE544a75eDe891a66\"#random one\n",
    "    }\n",
    "    return make_settings(\"1750\", \"Metal\", chain_settings=d, get_env=get_env, **kwargs)"
   ]
  },
  {
   "cell_type": "markdown",
   "metadata": {},
   "source": [
    "## Swell Chain settings"
   ]
  },
  {
   "cell_type": "code",
   "execution_count": null,
   "metadata": {},
   "outputs": [],
   "source": [
    "#| export\n",
    "\n",
    "def make_swell_chain_settings(get_env: GetEnv = get_env, **kwargs) -> ChainSettings:\n",
    "    d = {\n",
    "        \"rpc_uri\": \"https://swell-mainnet.alt.technology\",\n",
    "        \"pools_count_upper_bound\": 20,\n",
    "        \"wrapped_native_token_addr\": \"0x4200000000000000000000000000000000000006\",#\n",
    "        \"sugar_contract_addr\": \"0x74f18F46d20750Cab0d3fE75Ca0395bdB8016fD1\",#\n",
    "        \"sugar_rewards_contract_addr\": \"0xbDD1d5A9d9566F575bC59cE33C8F77ACa5cF924b\",#\n",
    "        \"slipstream_contract_addr\": \"0x222ed297aF0560030136AE652d39fa40E1B72818\",#\n",
    "        \"nfpm_contract_addr\": \"0x991d5546c4b442b4c5fdc4c8b8b8d131deb24702\",#\n",
    "        \"price_oracle_contract_addr\": \"0xe58920a8c684CD3d6dCaC2a41b12998e4CB17EfE\",#\n",
    "        \"router_contract_addr\": \"0x3a63171dd9bebf4d07bc782fecc7eb0b890c2a45\",#\n",
    "        \"quoter_contract_addr\": \"0x2f7150B288ef1cc553207bD9fbd40D4e0e093B24\",#\n",
    "        \"swapper_contract_addr\": \"0x652e53C6a4FE39B6B30426d9c96376a105C89A95\",#\n",
    "        \"token_addr\": \"0x7f9AdFbd38b669F03d1d11000Bc76b9AaEA28A81\",#\n",
    "        \"stable_token_addr\": \"0x5d3a1Ff2b6BAb83b63cd9AD0787074081a52ef34\",#\n",
    "        \"connector_tokens_addrs\": \"0x4200000000000000000000000000000000000006,0x7f9AdFbd38b669F03d1d11000Bc76b9AaEA28A81\",#\n",
    "        \"excluded_tokens_addrs\": \"0xE3Ae7873B76722Ba23b1EEEEE544a75eDe891a66\"#random one\n",
    "    }\n",
    "    return make_settings(\"1923\", \"Swell\", chain_settings=d, get_env=get_env, **kwargs)"
   ]
  },
  {
   "cell_type": "markdown",
   "metadata": {},
   "source": [
    "## Mode Chain settings"
   ]
  },
  {
   "cell_type": "code",
   "execution_count": null,
   "metadata": {},
   "outputs": [],
   "source": [
    "#| export\n",
    "\n",
    "def make_mode_chain_settings(get_env: GetEnv = get_env, **kwargs) -> ChainSettings:\n",
    "    d = {\n",
    "        \"rpc_uri\": \"https://mainnet.mode.network\",\n",
    "        \"pools_count_upper_bound\": 20,\n",
    "        \"wrapped_native_token_addr\": \"0x4200000000000000000000000000000000000006\",#\n",
    "        \"sugar_contract_addr\": \"0x87d729D7Cc6524604d694fc371d770F0d882E35b\",#\n",
    "        \"sugar_rewards_contract_addr\": \"0xD5d3ABAcB8CF075636792658EE0be8B03AF517B8\",#\n",
    "        \"slipstream_contract_addr\": \"0xD24a61656AB0d70994Ef5F42fE11AA95c0a1d329\",#\n",
    "        \"nfpm_contract_addr\": \"0x991d5546c4b442b4c5fdc4c8b8b8d131deb24702\",#\n",
    "        \"price_oracle_contract_addr\": \"0xbAEe949B52cb503e39f1Df54Dcee778da59E11bc\",#\n",
    "        \"router_contract_addr\": \"0x3a63171dd9bebf4d07bc782fecc7eb0b890c2a45\",#\n",
    "        \"quoter_contract_addr\": \"0x2f7150B288ef1cc553207bD9fbd40D4e0e093B24\",#\n",
    "        \"swapper_contract_addr\": \"0x652e53C6a4FE39B6B30426d9c96376a105C89A95\",#\n",
    "        \"token_addr\": \"0x7f9AdFbd38b669F03d1d11000Bc76b9AaEA28A81\",#\n",
    "        \"stable_token_addr\": \"0xd988097fb8612cc24eeC14542bC03424c656005f\",#\n",
    "        \"connector_tokens_addrs\": \"0x4200000000000000000000000000000000000006,0x7f9AdFbd38b669F03d1d11000Bc76b9AaEA28A81\",#\n",
    "        \"excluded_tokens_addrs\": \"0xE3Ae7873B76722Ba23b1EEEEE544a75eDe891a66\"#random one\n",
    "    }\n",
    "    return make_settings(\"34443\", \"Mode\", chain_settings=d, get_env=get_env, **kwargs)"
   ]
  },
  {
   "cell_type": "markdown",
   "metadata": {},
   "source": [
    "## Celo Chain settings"
   ]
  },
  {
   "cell_type": "code",
   "execution_count": null,
   "metadata": {},
   "outputs": [],
   "source": [
    "#| export\n",
    "\n",
    "def make_celo_chain_settings(get_env: GetEnv = get_env, **kwargs) -> ChainSettings:\n",
    "    d = {\n",
    "        \"rpc_uri\": \"https://forno.celo.org\",\n",
    "        \"pools_count_upper_bound\": 20,\n",
    "        \"wrapped_native_token_addr\": \"0x471EcE3750Da237f93B8E339c536989b8978a438\",#\n",
    "        \"sugar_contract_addr\": \"0x2002618dd63228670698200069e42f4422e82497\",#\n",
    "        \"sugar_rewards_contract_addr\": \"0x2DCD9B33F0721000Dc1F8f84B804d4CFA23d7713\",#\n",
    "        \"slipstream_contract_addr\": \"0x928bb6c9097d5c9c1eb5e99e71e24e4d773f2be5\",#\n",
    "        \"nfpm_contract_addr\": \"0x991d5546c4b442b4c5fdc4c8b8b8d131deb24702\",#\n",
    "        \"price_oracle_contract_addr\": \"0xbf6d753FC4a10Ec5191c56BB3DC1e414b7572327\",#\n",
    "        \"router_contract_addr\": \"0x3a63171dd9bebf4d07bc782fecc7eb0b890c2a45\",#\n",
    "        \"quoter_contract_addr\": \"0x2f7150B288ef1cc553207bD9fbd40D4e0e093B24\",#\n",
    "        \"swapper_contract_addr\": \"0x01D40099fCD87C018969B0e8D4aB1633Fb34763C\",#\n",
    "        \"token_addr\": \"0x7f9AdFbd38b669F03d1d11000Bc76b9AaEA28A81\",#\n",
    "        \"stable_token_addr\": \"0x48065fbBE25f71C9282ddf5e1cD6D6A887483D5e\",\n",
    "        \"connector_tokens_addrs\": \"0x471EcE3750Da237f93B8E339c536989b8978a438,0x7f9AdFbd38b669F03d1d11000Bc76b9AaEA28A81\",\n",
    "        \"excluded_tokens_addrs\": \"0xE3Ae7873B76722Ba23b1EEEEE544a75eDe891a66\"#random one\n",
    "    }\n",
    "    return make_settings(\"42220\", \"Celo\", chain_settings=d, get_env=get_env, **kwargs)"
   ]
  },
  {
   "cell_type": "markdown",
   "metadata": {},
   "source": [
    "## Tests"
   ]
  },
  {
   "cell_type": "code",
   "execution_count": null,
   "metadata": {},
   "outputs": [],
   "source": [
    "from fastcore.test import test_eq"
   ]
  },
  {
   "cell_type": "code",
   "execution_count": null,
   "metadata": {},
   "outputs": [],
   "source": [
    "# no env in tests, baby\n",
    "def no_env(key: str, default: Any) -> Any: return default\n",
    "\n",
    "op_settings, base_settings = make_op_chain_settings(get_env=no_env), make_base_chain_settings(get_env=no_env)\n",
    "\n",
    "test_eq(op_settings.chain_id, \"10\")\n",
    "assert \"optimism\" in op_settings.rpc_uri\n",
    "assert type(op_settings.connector_tokens_addrs) is list\n",
    "assert len(op_settings.connector_tokens_addrs) > 1 \n",
    "assert type(op_settings.excluded_tokens_addrs) is list\n",
    "assert len(op_settings.excluded_tokens_addrs) > 1\n",
    "assert op_settings.chain_id != base_settings.chain_id\n",
    "\n",
    "assert op_settings.swap_slippage == 0.01\n",
    "\n",
    "# test env overrides\n",
    "\n",
    "def test_env(key: str, default: Any) -> Any:\n",
    "    return {\n",
    "        \"SUGAR_RPC_URI_10\": \"https://super-optimism-mainnet.wallet.coinbase.com\",\n",
    "        \"SUGAR_SWAP_SLIPPAGE_10\": \"0.05\",\n",
    "    }.get(key, default)\n",
    "\n",
    "op_settings = make_op_chain_settings(get_env=test_env)\n",
    "assert op_settings.rpc_uri == \"https://super-optimism-mainnet.wallet.coinbase.com\"\n",
    "assert op_settings.swap_slippage == 0.05\n",
    "\n",
    "op_settings = make_op_chain_settings(get_env=test_env, rpc_uri=\"https://mirror-optimism-mainnet.wallet.coinbase.com\")\n",
    "assert op_settings.rpc_uri == \"https://mirror-optimism-mainnet.wallet.coinbase.com\"\n",
    "# make sure lists are parsed correctly\n",
    "assert type(op_settings.connector_tokens_addrs) is list\n",
    "assert len(op_settings.connector_tokens_addrs) > 1\n",
    "\n",
    "\n",
    "# when keyword args are flying left and right, it's easy to get lost\n",
    "s = make_op_chain_settings(get_env=test_env, swap_slippage=0.1, hello=\"word\")\n",
    "assert not hasattr(s, \"hello\")"
   ]
  },
  {
   "cell_type": "code",
   "execution_count": null,
   "metadata": {},
   "outputs": [],
   "source": [
    "#| hide\n",
    "\n",
    "import nbdev; nbdev.nbdev_export()"
   ]
  }
 ],
 "metadata": {
  "kernelspec": {
   "display_name": "python3",
   "language": "python",
   "name": "python3"
  }
 },
 "nbformat": 4,
 "nbformat_minor": 2
}
